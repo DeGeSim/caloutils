{
 "cells": [
  {
   "cell_type": "code",
   "execution_count": 2,
   "metadata": {},
   "outputs": [],
   "source": [
    "import torch\n",
    "import caloutils"
   ]
  },
  {
   "cell_type": "code",
   "execution_count": 3,
   "metadata": {},
   "outputs": [
    {
     "data": {
      "text/plain": [
       "<module 'caloutils' from '/home/mscham/caloutils/caloutils/__init__.py'>"
      ]
     },
     "execution_count": 3,
     "metadata": {},
     "output_type": "execute_result"
    }
   ],
   "source": [
    "import importlib\n",
    "importlib.reload(caloutils)"
   ]
  },
  {
   "cell_type": "code",
   "execution_count": 15,
   "metadata": {},
   "outputs": [
    {
     "name": "stdout",
     "output_type": "stream",
     "text": [
      "tensor([[7, 0, 0, 1],\n",
      "        [3, 0, 2, 3],\n",
      "        [2, 1, 1, 1]]) tensor([[30, 10],\n",
      "        [ 2,  1]]) tensor([0, 0, 1])\n"
     ]
    }
   ],
   "source": [
    "showers = torch.tensor(\n",
    "    [ # Events\n",
    "        [ # Layers\n",
    "            [[0, 7, 0, 0], [0, 0, 0, 0], [0, 0, 0, 3]], # Row & Columns\n",
    "            [[0, 0, 0, 0], [0, 0, 0, 0], [0, 0, 0, 0]],\n",
    "        ],\n",
    "        [\n",
    "            [[0, 0, 0, 0], [0, 0, 0, 0], [0, 0, 0, 0]],\n",
    "            [[0, 0, 0, 0], [0, 2, 0, 0], [0, 0, 0, 0]],\n",
    "        ],\n",
    "    ]\n",
    ")\n",
    "batch = caloutils.processing.voxel_to_pc(\n",
    "    showers,\n",
    "    Einc=torch.tensor([30, 10]),\n",
    ")\n",
    "print(batch.x, batch.y, batch.batch)\n"
   ]
  },
  {
   "cell_type": "code",
   "execution_count": 17,
   "metadata": {},
   "outputs": [
    {
     "data": {
      "text/plain": [
       "tensor([[[[0, 7, 0, 0],\n",
       "          [0, 0, 0, 0],\n",
       "          [0, 0, 0, 3]],\n",
       "\n",
       "         [[0, 0, 0, 0],\n",
       "          [0, 0, 0, 0],\n",
       "          [0, 0, 0, 0]]],\n",
       "\n",
       "\n",
       "        [[[0, 0, 0, 0],\n",
       "          [0, 0, 0, 0],\n",
       "          [0, 0, 0, 0]],\n",
       "\n",
       "         [[0, 0, 0, 0],\n",
       "          [0, 2, 0, 0],\n",
       "          [0, 0, 0, 0]]]])"
      ]
     },
     "execution_count": 17,
     "metadata": {},
     "output_type": "execute_result"
    }
   ],
   "source": [
    "caloutils.init_calorimeter(\"test_large\")\n",
    "calo = caloutils.calorimeter\n",
    "calo._num_z, calo._num_alpha, calo._num_r = showers.shape[1:]\n",
    "calo._dims = showers.shape[1:]\n",
    "caloutils.processing.pc_to_voxel(batch)"
   ]
  },
  {
   "cell_type": "code",
   "execution_count": null,
   "metadata": {},
   "outputs": [],
   "source": [
    "tensor(\n",
    "    [\n",
    "        [\n",
    "            [[0, 1, 0, 0], [0, 0, 0, 0], [0, 0, 0, 1]],\n",
    "            [[0, 0, 0, 0], [0, 0, 0, 0], [0, 0, 0, 0]],\n",
    "            [[0, 0, 0, 0], [0, 0, 0, 0], [0, 0, 0, 0]],\n",
    "            [[0, 0, 0, 0], [0, 0, 0, 0], [0, 0, 0, 0]],\n",
    "        ]\n",
    "    ]\n",
    ")\n"
   ]
  }
 ],
 "metadata": {
  "kernelspec": {
   "display_name": "fgsim",
   "language": "python",
   "name": "python3"
  },
  "language_info": {
   "codemirror_mode": {
    "name": "ipython",
    "version": 3
   },
   "file_extension": ".py",
   "mimetype": "text/x-python",
   "name": "python",
   "nbconvert_exporter": "python",
   "pygments_lexer": "ipython3",
   "version": "3.10.1"
  },
  "orig_nbformat": 4
 },
 "nbformat": 4,
 "nbformat_minor": 2
}
